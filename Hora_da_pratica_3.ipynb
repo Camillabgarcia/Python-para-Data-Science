{
  "nbformat": 4,
  "nbformat_minor": 0,
  "metadata": {
    "colab": {
      "provenance": [],
      "authorship_tag": "ABX9TyPGnMUuSkZwjekSwsWbbRwu",
      "include_colab_link": true
    },
    "kernelspec": {
      "name": "python3",
      "display_name": "Python 3"
    },
    "language_info": {
      "name": "python"
    }
  },
  "cells": [
    {
      "cell_type": "markdown",
      "metadata": {
        "id": "view-in-github",
        "colab_type": "text"
      },
      "source": [
        "<a href=\"https://colab.research.google.com/github/Camillabgarcia/Python-para-Data-Science/blob/main/Hora_da_pratica_3.ipynb\" target=\"_parent\"><img src=\"https://colab.research.google.com/assets/colab-badge.svg\" alt=\"Open In Colab\"/></a>"
      ]
    },
    {
      "cell_type": "code",
      "execution_count": 1,
      "metadata": {
        "id": "XtlPJpHF4yZf"
      },
      "outputs": [],
      "source": [
        "import numpy as np"
      ]
    },
    {
      "cell_type": "code",
      "source": [
        "url = 'https://raw.githubusercontent.com/allanspadini/numpy/dados/citrus.csv'"
      ],
      "metadata": {
        "id": "pifkSpl05If3"
      },
      "execution_count": 2,
      "outputs": []
    },
    {
      "cell_type": "code",
      "source": [
        "dado = np.loadtxt(url, delimiter=',',usecols=np.arange(1,6,1),skiprows=1)"
      ],
      "metadata": {
        "id": "mV_3G4MS5OK9"
      },
      "execution_count": 3,
      "outputs": []
    }
  ]
}